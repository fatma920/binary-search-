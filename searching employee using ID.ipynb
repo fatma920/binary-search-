{
 "cells": [
  {
   "cell_type": "code",
   "execution_count": null,
   "metadata": {},
   "outputs": [],
   "source": [
    "import pandas as pd \n",
    "\n",
    "class employee:\n",
    "    def __init__(self, name, empID, salary):\n",
    "        self.name = name \n",
    "        self.eid = eid \n",
    "        sel.salary = salary \n",
    "        \n",
    "def binarySearch(employees, temp):\n",
    "    left, right = 0, len(employees) - 1 \n",
    "    while left <= right:\n",
    "        mid = left + (right - left ) // 2\n",
    "        if employees[mid].eid < nid:\n",
    "            left = mid + 1\n",
    "        elif employees[mid].eid == nid:\n",
    "            left = mid + 1\n",
    "        else:\n",
    "                right = mid - 1\n",
    "        return None \n",
    "    \n",
    "#To read employee info from excel file \n",
    "df = pd.read_excel('employee.xlsx')\n",
    "\n",
    "#to create  list of employee objects \n",
    "employeeList = []\n",
    "for i, row in df.iterrow():\n",
    "    name = row['name']\n",
    "    eid = row['id']\n",
    "    salary = row['salary']\n",
    "    employee1 = employee(name,eidsalary)\n",
    "    employeeList.append(employee)\n",
    "    \n",
    "#sort the list of employee objects based on their IDs \n",
    "employee_list.sort(key = lambda emp: emp.eid)\n",
    "\n",
    "nid = 32 \n",
    "foundEmp = binarySearch(employeeList, nid)\n",
    "\n",
    "if foundEmp:\n",
    "    print(\"Employee found: \")\n",
    "    print(\"Name:\",foundEmp.name)\n",
    "    print(\"ID:\", foundEmp.id)\n",
    "    print(\"Salary:\", foundEmp.salary)\n",
    "else:\n",
    "    print(\"Employee not found.\")\n"
   ]
  }
 ],
 "metadata": {
  "kernelspec": {
   "display_name": "Python 3",
   "language": "python",
   "name": "python3"
  },
  "language_info": {
   "codemirror_mode": {
    "name": "ipython",
    "version": 3
   },
   "file_extension": ".py",
   "mimetype": "text/x-python",
   "name": "python",
   "nbconvert_exporter": "python",
   "pygments_lexer": "ipython3",
   "version": "3.7.4"
  }
 },
 "nbformat": 4,
 "nbformat_minor": 2
}
